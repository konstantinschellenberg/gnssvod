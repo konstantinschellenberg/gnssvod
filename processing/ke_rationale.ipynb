{
 "cells": [
  {
   "metadata": {},
   "cell_type": "markdown",
   "source": [
    "# Jupyter Notebook: GNSS VOD Toy Anomaly Dataset\n",
    "I'll convert the script into a well-structured Jupyter notebook with detailed explanations of each step in the GNSS VOD analysis process"
   ],
   "id": "b564702775561b1b"
  },
  {
   "metadata": {
    "ExecuteTime": {
     "end_time": "2025-06-06T00:44:02.446237Z",
     "start_time": "2025-06-06T00:44:01.408534Z"
    }
   },
   "cell_type": "code",
   "source": [
    "# Import necessary libraries\n",
    "import numpy as np\n",
    "import pandas as pd\n",
    "from matplotlib import pyplot as plt\n",
    "\n",
    "from analysis.calculate_anomaly_functions import ke_fun\n",
    "from analysis.calculate_anomalies import calculate_anomaly\n",
    "import gnssvod as gv\n",
    "from processing.export_vod_funs import plot_hemi"
   ],
   "id": "58fb728e42dcd0f",
   "outputs": [
    {
     "ename": "ImportError",
     "evalue": "cannot import name 'ke_fun' from 'analysis.calculate_anomalies' (/home/konsch/Documents/5-Repos/gnssvod/gnssvod/analysis/calculate_anomalies.py)",
     "output_type": "error",
     "traceback": [
      "\u001B[31m---------------------------------------------------------------------------\u001B[39m",
      "\u001B[31mImportError\u001B[39m                               Traceback (most recent call last)",
      "\u001B[36mCell\u001B[39m\u001B[36m \u001B[39m\u001B[32mIn[1]\u001B[39m\u001B[32m, line 6\u001B[39m\n\u001B[32m      3\u001B[39m \u001B[38;5;28;01mimport\u001B[39;00m\u001B[38;5;250m \u001B[39m\u001B[34;01mpandas\u001B[39;00m\u001B[38;5;250m \u001B[39m\u001B[38;5;28;01mas\u001B[39;00m\u001B[38;5;250m \u001B[39m\u001B[34;01mpd\u001B[39;00m\n\u001B[32m      4\u001B[39m \u001B[38;5;28;01mfrom\u001B[39;00m\u001B[38;5;250m \u001B[39m\u001B[34;01mmatplotlib\u001B[39;00m\u001B[38;5;250m \u001B[39m\u001B[38;5;28;01mimport\u001B[39;00m pyplot \u001B[38;5;28;01mas\u001B[39;00m plt\n\u001B[32m----> \u001B[39m\u001B[32m6\u001B[39m \u001B[38;5;28;01mfrom\u001B[39;00m\u001B[38;5;250m \u001B[39m\u001B[34;01manalysis\u001B[39;00m\u001B[34;01m.\u001B[39;00m\u001B[34;01mcalculate_anomalies\u001B[39;00m\u001B[38;5;250m \u001B[39m\u001B[38;5;28;01mimport\u001B[39;00m calculate_anomaly, ke_fun\n\u001B[32m      7\u001B[39m \u001B[38;5;28;01mimport\u001B[39;00m\u001B[38;5;250m \u001B[39m\u001B[34;01mgnssvod\u001B[39;00m\u001B[38;5;250m \u001B[39m\u001B[38;5;28;01mas\u001B[39;00m\u001B[38;5;250m \u001B[39m\u001B[34;01mgv\u001B[39;00m\n\u001B[32m      8\u001B[39m \u001B[38;5;28;01mfrom\u001B[39;00m\u001B[38;5;250m \u001B[39m\u001B[34;01mprocessing\u001B[39;00m\u001B[34;01m.\u001B[39;00m\u001B[34;01mexport_vod_funs\u001B[39;00m\u001B[38;5;250m \u001B[39m\u001B[38;5;28;01mimport\u001B[39;00m plot_hemi\n",
      "\u001B[31mImportError\u001B[39m: cannot import name 'ke_fun' from 'analysis.calculate_anomalies' (/home/konsch/Documents/5-Repos/gnssvod/gnssvod/analysis/calculate_anomalies.py)"
     ]
    }
   ],
   "execution_count": 1
  },
  {
   "metadata": {},
   "cell_type": "markdown",
   "source": [
    "## 1. Define Key Functions\n",
    "First, let's define the extinction coefficient function that calculates the effective extinction coefficient (ke) and pathlength based on VOD, canopy height, and elevation angle."
   ],
   "id": "a6ef6ae39f8df9b3"
  },
  {
   "metadata": {},
   "cell_type": "code",
   "source": [
    "\"\"\"\n",
    "theta = 90 - elevation  # convert elevation to zenith angle\n",
    "pathlength = d / np.cos(np.deg2rad(theta))\n",
    "ke = vod / pathlength\n",
    "\"\"\""
   ],
   "id": "649e37d3f8f08adf",
   "outputs": [],
   "execution_count": null
  },
  {
   "metadata": {},
   "cell_type": "code",
   "source": [
    "# Set parameters\n",
    "d = 20  # canopy height in meters\n",
    "\n",
    "# Create a timeline of observations\n",
    "dates = pd.date_range(start='2022-01-01', periods=100, freq='10min')\n",
    "\n",
    "# Define satellite vehicles\n",
    "svs = [f'SV{i}' for i in range(1, 6)]\n",
    "\n",
    "# Generate random data\n",
    "vod_dict = {\n",
    "    'Epoch': np.tile(dates, len(svs) * len(dates)),\n",
    "    'SV': np.repeat(svs, len(dates) * len(dates)),\n",
    "    'VOD1': np.random.normal(loc=1, scale=0.3, size=len(dates) * len(svs) * len(dates)),\n",
    "    'Azimuth': np.random.rand(len(dates) * len(svs) * len(dates)) * 360,\n",
    "    'Elevation': np.random.rand(len(dates) * len(svs) * len(dates)) * 90\n",
    "}\n",
    "\n",
    "# Create the dataframe\n",
    "vod = pd.DataFrame(vod_dict)\n",
    "\n",
    "# Examine the data distributions\n",
    "fig, axes = plt.subplots(1, 3, figsize=(12, 4))\n",
    "vod.plot(kind='hist', y='VOD1', bins=30, title='VOD1 Distribution', ax=axes[0])\n",
    "vod.plot(kind='hist', y='Azimuth', bins=30, title='Azimuth Distribution', ax=axes[1])\n",
    "vod.plot(kind='hist', y='Elevation', bins=30, title='Elevation Distribution', ax=axes[2])\n",
    "plt.tight_layout()\n",
    "plt.show()"
   ],
   "id": "e301ac8aea724d9b",
   "outputs": [],
   "execution_count": null
  },
  {
   "metadata": {},
   "cell_type": "code",
   "outputs": [],
   "execution_count": null,
   "source": [
    "# Build a hemispheric grid with 1-degree resolution and 10-degree elevation cutoff\n",
    "hemi = gv.hemibuild(1, 10)\n",
    "\n",
    "# Classify VOD observations into grid cells\n",
    "vod_cell = hemi.add_CellID(vod.copy())\n",
    "\n",
    "# Display a sample of the classified data\n",
    "print(\"Sample of VOD data with CellID:\")\n",
    "print(vod_cell.head())"
   ],
   "id": "2177261b50e53167"
  },
  {
   "metadata": {},
   "cell_type": "code",
   "outputs": [],
   "execution_count": null,
   "source": [
    "# Calculate ke and pathlength for all observations\n",
    "vod_cell['ke'], vod_cell['pathlength'] = ke_fun(\n",
    "    vod_cell['VOD1'],\n",
    "    d=20,  # Canopy height in meters\n",
    "    elevation=vod_cell[\"Elevation\"]\n",
    ")\n",
    "\n",
    "# Set index for later anomaly calculation\n",
    "vod_cell.set_index(['Epoch', 'SV'], inplace=True)\n",
    "\n",
    "# Calculate cell averages with temporal resolution of 60 minutes\n",
    "_, avg = calculate_anomaly(vod_cell, [\"ke\"], 60)\n",
    "\n",
    "# Display summary statistics\n",
    "print(\"Summary statistics of calculated parameters:\")\n",
    "print(avg[['VOD1_mean', 'ke_mean', 'pathlength_mean', 'Elevation_mean']].describe())"
   ],
   "id": "48babe2771dd3322"
  },
  {
   "metadata": {},
   "cell_type": "code",
   "outputs": [],
   "execution_count": null,
   "source": [
    "# Create visualization grid\n",
    "fig, axes = plt.subplots(2, 2, figsize=(8,8))\n",
    "\n",
    "# VOD vs ke\n",
    "avg.plot(kind=\"scatter\", x=\"VOD1_mean\", y=\"ke_mean\", s=3, ax=axes[0, 0])\n",
    "axes[0, 0].set_title(\"VOD vs Extinction Coefficient\")\n",
    "axes[0, 0].grid(True, alpha=0.3)\n",
    "\n",
    "# Normalize pathlength by canopy height for better interpretation\n",
    "avg[\"path_per_d\"] = avg[\"pathlength_mean\"] / d\n",
    "\n",
    "# ke vs normalized pathlength\n",
    "avg.plot(kind=\"scatter\", x=\"ke_mean\", y=\"path_per_d\", s=3, ax=axes[0, 1])\n",
    "axes[0, 1].set_title(\"Extinction Coefficient vs Normalized Pathlength\")\n",
    "axes[0, 1].set_ylabel(f\"Pathlength / Canopy Height\")\n",
    "axes[0, 1].grid(True, alpha=0.3)\n",
    "\n",
    "# VOD vs normalized pathlength\n",
    "avg.plot(kind=\"scatter\", x=\"VOD1_mean\", y=\"path_per_d\", s=3, ax=axes[1, 0])\n",
    "axes[1, 0].set_title(\"VOD vs Normalized Pathlength\")\n",
    "axes[1, 0].set_ylabel(f\"Pathlength / Canopy Height\")\n",
    "axes[1, 0].grid(True, alpha=0.3)\n",
    "\n",
    "# Elevation vs VOD\n",
    "avg.plot(kind=\"scatter\", x=\"Elevation_mean\", y=\"VOD1_mean\", s=3, ax=axes[1, 1])\n",
    "axes[1, 1].set_title(\"Elevation vs VOD\")\n",
    "axes[1, 1].grid(True, alpha=0.3)\n",
    "\n",
    "plt.tight_layout()\n",
    "plt.show()"
   ],
   "id": "25a01dfc4bed93fa"
  },
  {
   "metadata": {},
   "cell_type": "markdown",
   "source": "## 2. Visualize Hemispheric Distributions",
   "id": "d1129d12a691f446"
  },
  {
   "cell_type": "code",
   "id": "initial_id",
   "metadata": {
    "collapsed": true
   },
   "source": [
    "# Create a figure with 3 subplots for hemispheric distributions\n",
    "# Plot the hemispheric distribution of VOD\n",
    "plot_hemi(avg, hemi.patches(), \"VOD1_mean\", ax=axes[0],\n",
    "          title=\"VOD Distribution\", clim=\"auto\")\n",
    "\n",
    "# Plot the hemispheric distribution of extinction coefficient\n",
    "plot_hemi(avg, hemi.patches(), \"ke_mean\", ax=axes[1],\n",
    "          title=\"Extinction Coefficient\", clim=\"auto\")\n",
    "\n",
    "# Plot the hemispheric distribution of path length\n",
    "plot_hemi(avg, hemi.patches(), \"pathlength_mean\", ax=axes[2],\n",
    "          title=\"Path Length (m)\", clim=\"auto\")\n"
   ],
   "outputs": [],
   "execution_count": null
  }
 ],
 "metadata": {
  "kernelspec": {
   "display_name": "Python 3",
   "language": "python",
   "name": "python3"
  },
  "language_info": {
   "codemirror_mode": {
    "name": "ipython",
    "version": 2
   },
   "file_extension": ".py",
   "mimetype": "text/x-python",
   "name": "python",
   "nbconvert_exporter": "python",
   "pygments_lexer": "ipython2",
   "version": "2.7.6"
  }
 },
 "nbformat": 4,
 "nbformat_minor": 5
}
